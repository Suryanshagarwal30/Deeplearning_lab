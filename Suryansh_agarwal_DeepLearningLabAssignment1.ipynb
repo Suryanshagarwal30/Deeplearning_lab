{
  "nbformat": 4,
  "nbformat_minor": 0,
  "metadata": {
    "colab": {
      "provenance": [],
      "authorship_tag": "ABX9TyPCmuH0Oy9DZWdhK2gsO8Rq",
      "include_colab_link": true
    },
    "kernelspec": {
      "name": "python3",
      "display_name": "Python 3"
    },
    "language_info": {
      "name": "python"
    }
  },
  "cells": [
    {
      "cell_type": "markdown",
      "metadata": {
        "id": "view-in-github",
        "colab_type": "text"
      },
      "source": [
        "<a href=\"https://colab.research.google.com/github/Suryanshagarwal30/Deeplearning_lab/blob/main/Suryansh_agarwal_DeepLearningLabAssignment1.ipynb\" target=\"_parent\"><img src=\"https://colab.research.google.com/assets/colab-badge.svg\" alt=\"Open In Colab\"/></a>"
      ]
    },
    {
      "cell_type": "markdown",
      "source": [
        "**Name**: Suryansh Agarwal\n",
        "\n",
        "**Roll no**: 69\n",
        "\n",
        "**Batch**: DL4"
      ],
      "metadata": {
        "id": "XfzowYkIFIIO"
      }
    },
    {
      "cell_type": "code",
      "execution_count": 2,
      "metadata": {
        "id": "V9bby5c8_1Wo"
      },
      "outputs": [],
      "source": [
        "import numpy as np\n",
        "import pandas as pd\n",
        "from matplotlib import pyplot as plt"
      ]
    },
    {
      "cell_type": "code",
      "source": [
        "from google.colab import files\n",
        "files.upload()  # Upload your kaggle.json"
      ],
      "metadata": {
        "colab": {
          "base_uri": "https://localhost:8080/",
          "height": 90
        },
        "id": "yyyiWXUdAqpP",
        "outputId": "92c9efbd-e5d8-488d-8f34-16d9c63ce29e"
      },
      "execution_count": 4,
      "outputs": [
        {
          "output_type": "display_data",
          "data": {
            "text/plain": [
              "<IPython.core.display.HTML object>"
            ],
            "text/html": [
              "\n",
              "     <input type=\"file\" id=\"files-ac7e6ff8-b3e8-49a7-ad99-7c1d378784bf\" name=\"files[]\" multiple disabled\n",
              "        style=\"border:none\" />\n",
              "     <output id=\"result-ac7e6ff8-b3e8-49a7-ad99-7c1d378784bf\">\n",
              "      Upload widget is only available when the cell has been executed in the\n",
              "      current browser session. Please rerun this cell to enable.\n",
              "      </output>\n",
              "      <script>// Copyright 2017 Google LLC\n",
              "//\n",
              "// Licensed under the Apache License, Version 2.0 (the \"License\");\n",
              "// you may not use this file except in compliance with the License.\n",
              "// You may obtain a copy of the License at\n",
              "//\n",
              "//      http://www.apache.org/licenses/LICENSE-2.0\n",
              "//\n",
              "// Unless required by applicable law or agreed to in writing, software\n",
              "// distributed under the License is distributed on an \"AS IS\" BASIS,\n",
              "// WITHOUT WARRANTIES OR CONDITIONS OF ANY KIND, either express or implied.\n",
              "// See the License for the specific language governing permissions and\n",
              "// limitations under the License.\n",
              "\n",
              "/**\n",
              " * @fileoverview Helpers for google.colab Python module.\n",
              " */\n",
              "(function(scope) {\n",
              "function span(text, styleAttributes = {}) {\n",
              "  const element = document.createElement('span');\n",
              "  element.textContent = text;\n",
              "  for (const key of Object.keys(styleAttributes)) {\n",
              "    element.style[key] = styleAttributes[key];\n",
              "  }\n",
              "  return element;\n",
              "}\n",
              "\n",
              "// Max number of bytes which will be uploaded at a time.\n",
              "const MAX_PAYLOAD_SIZE = 100 * 1024;\n",
              "\n",
              "function _uploadFiles(inputId, outputId) {\n",
              "  const steps = uploadFilesStep(inputId, outputId);\n",
              "  const outputElement = document.getElementById(outputId);\n",
              "  // Cache steps on the outputElement to make it available for the next call\n",
              "  // to uploadFilesContinue from Python.\n",
              "  outputElement.steps = steps;\n",
              "\n",
              "  return _uploadFilesContinue(outputId);\n",
              "}\n",
              "\n",
              "// This is roughly an async generator (not supported in the browser yet),\n",
              "// where there are multiple asynchronous steps and the Python side is going\n",
              "// to poll for completion of each step.\n",
              "// This uses a Promise to block the python side on completion of each step,\n",
              "// then passes the result of the previous step as the input to the next step.\n",
              "function _uploadFilesContinue(outputId) {\n",
              "  const outputElement = document.getElementById(outputId);\n",
              "  const steps = outputElement.steps;\n",
              "\n",
              "  const next = steps.next(outputElement.lastPromiseValue);\n",
              "  return Promise.resolve(next.value.promise).then((value) => {\n",
              "    // Cache the last promise value to make it available to the next\n",
              "    // step of the generator.\n",
              "    outputElement.lastPromiseValue = value;\n",
              "    return next.value.response;\n",
              "  });\n",
              "}\n",
              "\n",
              "/**\n",
              " * Generator function which is called between each async step of the upload\n",
              " * process.\n",
              " * @param {string} inputId Element ID of the input file picker element.\n",
              " * @param {string} outputId Element ID of the output display.\n",
              " * @return {!Iterable<!Object>} Iterable of next steps.\n",
              " */\n",
              "function* uploadFilesStep(inputId, outputId) {\n",
              "  const inputElement = document.getElementById(inputId);\n",
              "  inputElement.disabled = false;\n",
              "\n",
              "  const outputElement = document.getElementById(outputId);\n",
              "  outputElement.innerHTML = '';\n",
              "\n",
              "  const pickedPromise = new Promise((resolve) => {\n",
              "    inputElement.addEventListener('change', (e) => {\n",
              "      resolve(e.target.files);\n",
              "    });\n",
              "  });\n",
              "\n",
              "  const cancel = document.createElement('button');\n",
              "  inputElement.parentElement.appendChild(cancel);\n",
              "  cancel.textContent = 'Cancel upload';\n",
              "  const cancelPromise = new Promise((resolve) => {\n",
              "    cancel.onclick = () => {\n",
              "      resolve(null);\n",
              "    };\n",
              "  });\n",
              "\n",
              "  // Wait for the user to pick the files.\n",
              "  const files = yield {\n",
              "    promise: Promise.race([pickedPromise, cancelPromise]),\n",
              "    response: {\n",
              "      action: 'starting',\n",
              "    }\n",
              "  };\n",
              "\n",
              "  cancel.remove();\n",
              "\n",
              "  // Disable the input element since further picks are not allowed.\n",
              "  inputElement.disabled = true;\n",
              "\n",
              "  if (!files) {\n",
              "    return {\n",
              "      response: {\n",
              "        action: 'complete',\n",
              "      }\n",
              "    };\n",
              "  }\n",
              "\n",
              "  for (const file of files) {\n",
              "    const li = document.createElement('li');\n",
              "    li.append(span(file.name, {fontWeight: 'bold'}));\n",
              "    li.append(span(\n",
              "        `(${file.type || 'n/a'}) - ${file.size} bytes, ` +\n",
              "        `last modified: ${\n",
              "            file.lastModifiedDate ? file.lastModifiedDate.toLocaleDateString() :\n",
              "                                    'n/a'} - `));\n",
              "    const percent = span('0% done');\n",
              "    li.appendChild(percent);\n",
              "\n",
              "    outputElement.appendChild(li);\n",
              "\n",
              "    const fileDataPromise = new Promise((resolve) => {\n",
              "      const reader = new FileReader();\n",
              "      reader.onload = (e) => {\n",
              "        resolve(e.target.result);\n",
              "      };\n",
              "      reader.readAsArrayBuffer(file);\n",
              "    });\n",
              "    // Wait for the data to be ready.\n",
              "    let fileData = yield {\n",
              "      promise: fileDataPromise,\n",
              "      response: {\n",
              "        action: 'continue',\n",
              "      }\n",
              "    };\n",
              "\n",
              "    // Use a chunked sending to avoid message size limits. See b/62115660.\n",
              "    let position = 0;\n",
              "    do {\n",
              "      const length = Math.min(fileData.byteLength - position, MAX_PAYLOAD_SIZE);\n",
              "      const chunk = new Uint8Array(fileData, position, length);\n",
              "      position += length;\n",
              "\n",
              "      const base64 = btoa(String.fromCharCode.apply(null, chunk));\n",
              "      yield {\n",
              "        response: {\n",
              "          action: 'append',\n",
              "          file: file.name,\n",
              "          data: base64,\n",
              "        },\n",
              "      };\n",
              "\n",
              "      let percentDone = fileData.byteLength === 0 ?\n",
              "          100 :\n",
              "          Math.round((position / fileData.byteLength) * 100);\n",
              "      percent.textContent = `${percentDone}% done`;\n",
              "\n",
              "    } while (position < fileData.byteLength);\n",
              "  }\n",
              "\n",
              "  // All done.\n",
              "  yield {\n",
              "    response: {\n",
              "      action: 'complete',\n",
              "    }\n",
              "  };\n",
              "}\n",
              "\n",
              "scope.google = scope.google || {};\n",
              "scope.google.colab = scope.google.colab || {};\n",
              "scope.google.colab._files = {\n",
              "  _uploadFiles,\n",
              "  _uploadFilesContinue,\n",
              "};\n",
              "})(self);\n",
              "</script> "
            ]
          },
          "metadata": {}
        },
        {
          "output_type": "stream",
          "name": "stdout",
          "text": [
            "Saving kaggle.json to kaggle.json\n"
          ]
        },
        {
          "output_type": "execute_result",
          "data": {
            "text/plain": [
              "{'kaggle.json': b'{\"username\":\"suryanshagarwal13\",\"key\":\"f7c652b53604a3929236122653040811\"}'}"
            ]
          },
          "metadata": {},
          "execution_count": 4
        }
      ]
    },
    {
      "cell_type": "code",
      "source": [
        "!pip install -q kaggle\n",
        "!mkdir -p ~/.kaggle\n",
        "!cp kaggle.json ~/.kaggle/\n",
        "!chmod 600 ~/.kaggle/kaggle.json\n",
        "\n",
        "!kaggle competitions download -c digit-recognizer\n",
        "!unzip digit-recognizer.zip"
      ],
      "metadata": {
        "colab": {
          "base_uri": "https://localhost:8080/"
        },
        "id": "7dggywKuB27x",
        "outputId": "c5eb091f-fab0-4e40-de6a-6c2e3d4ec629"
      },
      "execution_count": 5,
      "outputs": [
        {
          "output_type": "stream",
          "name": "stdout",
          "text": [
            "Archive:  digit-recognizer.zip\n",
            "  inflating: sample_submission.csv   \n",
            "  inflating: test.csv                \n",
            "  inflating: train.csv               \n"
          ]
        }
      ]
    },
    {
      "cell_type": "code",
      "source": [
        "data = pd.read_csv('train.csv')"
      ],
      "metadata": {
        "id": "lLCWy0sSB8bZ"
      },
      "execution_count": 6,
      "outputs": []
    },
    {
      "cell_type": "code",
      "source": [
        "data = np.array(data)\n",
        "m, n = data.shape\n",
        "np.random.shuffle(data) # shuffle before splitting into dev and training sets\n",
        "\n",
        "data_dev = data[0:1000].T\n",
        "Y_dev = data_dev[0]\n",
        "X_dev = data_dev[1:n]\n",
        "X_dev = X_dev / 255.\n",
        "\n",
        "data_train = data[1000:m].T\n",
        "Y_train = data_train[0]\n",
        "X_train = data_train[1:n]\n",
        "X_train = X_train / 255.\n",
        "_,m_train = X_train.shape\n"
      ],
      "metadata": {
        "id": "eG7FVOU1CHCq"
      },
      "execution_count": 7,
      "outputs": []
    },
    {
      "cell_type": "code",
      "source": [
        "Y_train"
      ],
      "metadata": {
        "colab": {
          "base_uri": "https://localhost:8080/"
        },
        "id": "4PDgBbsCCIO4",
        "outputId": "755593be-6fac-43d4-8b25-97e8cab906e0"
      },
      "execution_count": 8,
      "outputs": [
        {
          "output_type": "execute_result",
          "data": {
            "text/plain": [
              "array([5, 8, 9, ..., 6, 1, 7])"
            ]
          },
          "metadata": {},
          "execution_count": 8
        }
      ]
    },
    {
      "cell_type": "markdown",
      "source": [
        "Our NN will have a simple two-layer architecture. **Input layer ** a[0]\n",
        "  will have 784 units corresponding to the 784 pixels in each 28x28 input image. A hidden layer  a[1]\n",
        "  will have 10 units with ReLU activation, and finally our output layer  a[2]\n",
        "  will have 10 units corresponding to the ten digit classes with softmax activation.\n",
        "\n",
        "**Forward propagation**\n",
        "\n",
        "Z[1]=W[1]X+b[1]\n",
        "\n",
        "A[1]=gReLU(Z[1]))\n",
        "\n",
        "Z[2]=W[2]A[1]+b[2]\n",
        "\n",
        "A[2]=gsoftmax(Z[2])\n",
        "\n",
        "**Backward propagation**\n",
        "\n",
        "dZ[2]=A[2]−Y\n",
        "\n",
        "dW[2]=1mdZ[2]A[1]T\n",
        "\n",
        "dB[2]=1mΣdZ[2]\n",
        "\n",
        "dZ[1]=W[2]TdZ[2].∗g[1]′(z[1])\n",
        "\n",
        "dW[1]=1mdZ[1]A[0]T\n",
        "\n",
        "dB[1]=1mΣdZ[1]\n",
        "\n",
        "***Parameter updates***\n",
        "\n",
        "W[2]:=W[2]−αdW[2]\n",
        "\n",
        "b[2]:=b[2]−αdb[2]\n",
        "\n",
        "W[1]:=W[1]−αdW[1]\n",
        "\n",
        "b[1]:=b[1]−αdb[1]\n",
        "\n",
        "Vars and shapes\n",
        "\n",
        "Forward prop\n",
        "\n",
        "A[0]=X\n",
        " : 784 x m\n",
        "Z[1]∼A[1]\n",
        " : 10 x m\n",
        "W[1]\n",
        " : 10 x 784 (as  W[1]A[0]∼Z[1]\n",
        " )\n",
        "B[1]\n",
        " : 10 x 1\n",
        "Z[2]∼A[2]\n",
        " : 10 x m\n",
        "W[1]\n",
        " : 10 x 10 (as  W[2]A[1]∼Z[2]\n",
        " )\n",
        "B[2]\n",
        " : 10 x 1\n",
        "Backprop\n",
        "\n",
        "dZ[2]\n",
        " : 10 x m (  A[2]\n",
        " )\n",
        "dW[2]\n",
        " : 10 x 10\n",
        "dB[2]\n",
        " : 10 x 1\n",
        "dZ[1]\n",
        " : 10 x m (  A[1]\n",
        " )\n",
        "dW[1]\n",
        " : 10 x 10\n",
        "dB[1]\n",
        " : 10 x 1"
      ],
      "metadata": {
        "id": "W_MxD6PGCPdk"
      }
    },
    {
      "cell_type": "code",
      "source": [
        "def init_params():\n",
        "    W1 = np.random.rand(10, 784) - 0.5\n",
        "    b1 = np.random.rand(10, 1) - 0.5\n",
        "    W2 = np.random.rand(10, 10) - 0.5\n",
        "    b2 = np.random.rand(10, 1) - 0.5\n",
        "    return W1, b1, W2, b2\n",
        "\n",
        "def ReLU(Z):\n",
        "    return np.maximum(Z, 0)\n",
        "\n",
        "def softmax(Z):\n",
        "    A = np.exp(Z) / sum(np.exp(Z))\n",
        "    return A\n",
        "\n",
        "def forward_prop(W1, b1, W2, b2, X):\n",
        "    Z1 = W1.dot(X) + b1\n",
        "    A1 = ReLU(Z1)\n",
        "    Z2 = W2.dot(A1) + b2\n",
        "    A2 = softmax(Z2)\n",
        "    return Z1, A1, Z2, A2\n",
        "\n",
        "def ReLU_deriv(Z):\n",
        "    return Z > 0\n",
        "\n",
        "def one_hot(Y):\n",
        "    one_hot_Y = np.zeros((Y.size, Y.max() + 1))\n",
        "    one_hot_Y[np.arange(Y.size), Y] = 1\n",
        "    one_hot_Y = one_hot_Y.T\n",
        "    return one_hot_Y\n",
        "\n",
        "def backward_prop(Z1, A1, Z2, A2, W1, W2, X, Y):\n",
        "    one_hot_Y = one_hot(Y)\n",
        "    dZ2 = A2 - one_hot_Y\n",
        "    dW2 = 1 / m * dZ2.dot(A1.T)\n",
        "    db2 = 1 / m * np.sum(dZ2)\n",
        "    dZ1 = W2.T.dot(dZ2) * ReLU_deriv(Z1)\n",
        "    dW1 = 1 / m * dZ1.dot(X.T)\n",
        "    db1 = 1 / m * np.sum(dZ1)\n",
        "    return dW1, db1, dW2, db2\n",
        "\n",
        "def update_params(W1, b1, W2, b2, dW1, db1, dW2, db2, alpha):\n",
        "    W1 = W1 - alpha * dW1\n",
        "    b1 = b1 - alpha * db1\n",
        "    W2 = W2 - alpha * dW2\n",
        "    b2 = b2 - alpha * db2\n",
        "    return W1, b1, W2, b2"
      ],
      "metadata": {
        "id": "XWWEq2rKCYJb"
      },
      "execution_count": 9,
      "outputs": []
    },
    {
      "cell_type": "code",
      "source": [
        "def get_predictions(A2):\n",
        "    return np.argmax(A2, 0)\n",
        "\n",
        "def get_accuracy(predictions, Y):\n",
        "    print(predictions, Y)\n",
        "    return np.sum(predictions == Y) / Y.size\n",
        "\n",
        "def gradient_descent(X, Y, alpha, iterations):\n",
        "    W1, b1, W2, b2 = init_params()\n",
        "    for i in range(iterations):\n",
        "        Z1, A1, Z2, A2 = forward_prop(W1, b1, W2, b2, X)\n",
        "        dW1, db1, dW2, db2 = backward_prop(Z1, A1, Z2, A2, W1, W2, X, Y)\n",
        "        W1, b1, W2, b2 = update_params(W1, b1, W2, b2, dW1, db1, dW2, db2, alpha)\n",
        "        if i % 10 == 0:\n",
        "            print(\"Iteration: \", i)\n",
        "            predictions = get_predictions(A2)\n",
        "            print(get_accuracy(predictions, Y))\n",
        "    return W1, b1, W2, b2\n"
      ],
      "metadata": {
        "id": "3tXydsjACcOb"
      },
      "execution_count": 10,
      "outputs": []
    },
    {
      "cell_type": "code",
      "source": [
        "W1, b1, W2, b2 = gradient_descent(X_train, Y_train, 0.10, 500)\n"
      ],
      "metadata": {
        "colab": {
          "base_uri": "https://localhost:8080/"
        },
        "id": "4Ac1zzUrCh3T",
        "outputId": "5b386ec5-7533-44c5-ea85-2c49be64f40b"
      },
      "execution_count": 11,
      "outputs": [
        {
          "output_type": "stream",
          "name": "stdout",
          "text": [
            "Iteration:  0\n",
            "[6 6 6 ... 6 9 5] [5 8 9 ... 6 1 7]\n",
            "0.0714390243902439\n",
            "Iteration:  10\n",
            "[8 6 0 ... 8 9 7] [5 8 9 ... 6 1 7]\n",
            "0.10612195121951219\n",
            "Iteration:  20\n",
            "[9 6 9 ... 0 9 7] [5 8 9 ... 6 1 7]\n",
            "0.14668292682926828\n",
            "Iteration:  30\n",
            "[9 9 3 ... 0 3 7] [5 8 9 ... 6 1 7]\n",
            "0.20151219512195123\n",
            "Iteration:  40\n",
            "[9 9 5 ... 6 3 7] [5 8 9 ... 6 1 7]\n",
            "0.2612439024390244\n",
            "Iteration:  50\n",
            "[5 9 5 ... 6 3 7] [5 8 9 ... 6 1 7]\n",
            "0.33670731707317075\n",
            "Iteration:  60\n",
            "[5 7 5 ... 6 1 7] [5 8 9 ... 6 1 7]\n",
            "0.4084390243902439\n",
            "Iteration:  70\n",
            "[5 7 5 ... 6 1 1] [5 8 9 ... 6 1 7]\n",
            "0.46751219512195125\n",
            "Iteration:  80\n",
            "[4 3 5 ... 6 1 7] [5 8 9 ... 6 1 7]\n",
            "0.5187804878048781\n",
            "Iteration:  90\n",
            "[4 3 5 ... 6 1 7] [5 8 9 ... 6 1 7]\n",
            "0.5597073170731708\n",
            "Iteration:  100\n",
            "[4 3 5 ... 6 1 7] [5 8 9 ... 6 1 7]\n",
            "0.5918536585365853\n",
            "Iteration:  110\n",
            "[4 3 4 ... 6 1 7] [5 8 9 ... 6 1 7]\n",
            "0.6179268292682927\n",
            "Iteration:  120\n",
            "[4 3 4 ... 6 1 7] [5 8 9 ... 6 1 7]\n",
            "0.6404390243902439\n",
            "Iteration:  130\n",
            "[4 3 4 ... 6 1 7] [5 8 9 ... 6 1 7]\n",
            "0.6600731707317073\n",
            "Iteration:  140\n",
            "[4 3 4 ... 6 1 7] [5 8 9 ... 6 1 7]\n",
            "0.6773658536585366\n",
            "Iteration:  150\n",
            "[4 3 4 ... 6 1 7] [5 8 9 ... 6 1 7]\n",
            "0.6921463414634146\n",
            "Iteration:  160\n",
            "[4 3 4 ... 6 1 7] [5 8 9 ... 6 1 7]\n",
            "0.7063414634146341\n",
            "Iteration:  170\n",
            "[4 3 4 ... 6 1 7] [5 8 9 ... 6 1 7]\n",
            "0.719780487804878\n",
            "Iteration:  180\n",
            "[4 3 4 ... 6 1 7] [5 8 9 ... 6 1 7]\n",
            "0.7317317073170732\n",
            "Iteration:  190\n",
            "[4 3 4 ... 6 1 7] [5 8 9 ... 6 1 7]\n",
            "0.7409512195121951\n",
            "Iteration:  200\n",
            "[5 8 4 ... 6 1 7] [5 8 9 ... 6 1 7]\n",
            "0.7500243902439024\n",
            "Iteration:  210\n",
            "[5 8 4 ... 6 1 7] [5 8 9 ... 6 1 7]\n",
            "0.7588292682926829\n",
            "Iteration:  220\n",
            "[5 8 4 ... 6 1 7] [5 8 9 ... 6 1 7]\n",
            "0.7656585365853659\n",
            "Iteration:  230\n",
            "[5 8 4 ... 6 1 7] [5 8 9 ... 6 1 7]\n",
            "0.7727804878048781\n",
            "Iteration:  240\n",
            "[5 8 4 ... 6 1 7] [5 8 9 ... 6 1 7]\n",
            "0.7799024390243903\n",
            "Iteration:  250\n",
            "[5 8 4 ... 6 1 7] [5 8 9 ... 6 1 7]\n",
            "0.7850487804878049\n",
            "Iteration:  260\n",
            "[5 8 4 ... 6 1 7] [5 8 9 ... 6 1 7]\n",
            "0.7901707317073171\n",
            "Iteration:  270\n",
            "[5 8 4 ... 6 1 7] [5 8 9 ... 6 1 7]\n",
            "0.7937804878048781\n",
            "Iteration:  280\n",
            "[5 8 4 ... 6 1 7] [5 8 9 ... 6 1 7]\n",
            "0.7978536585365854\n",
            "Iteration:  290\n",
            "[5 8 4 ... 6 1 7] [5 8 9 ... 6 1 7]\n",
            "0.8026829268292683\n",
            "Iteration:  300\n",
            "[5 8 4 ... 6 1 7] [5 8 9 ... 6 1 7]\n",
            "0.8063414634146342\n",
            "Iteration:  310\n",
            "[5 8 4 ... 6 1 7] [5 8 9 ... 6 1 7]\n",
            "0.8097804878048781\n",
            "Iteration:  320\n",
            "[5 8 4 ... 6 1 7] [5 8 9 ... 6 1 7]\n",
            "0.8135853658536585\n",
            "Iteration:  330\n",
            "[5 8 4 ... 6 1 7] [5 8 9 ... 6 1 7]\n",
            "0.8164878048780487\n",
            "Iteration:  340\n",
            "[5 8 4 ... 6 1 7] [5 8 9 ... 6 1 7]\n",
            "0.8193658536585365\n",
            "Iteration:  350\n",
            "[5 8 4 ... 6 1 7] [5 8 9 ... 6 1 7]\n",
            "0.8224390243902439\n",
            "Iteration:  360\n",
            "[5 8 4 ... 6 1 7] [5 8 9 ... 6 1 7]\n",
            "0.825170731707317\n",
            "Iteration:  370\n",
            "[5 8 4 ... 6 1 7] [5 8 9 ... 6 1 7]\n",
            "0.8273414634146341\n",
            "Iteration:  380\n",
            "[5 8 4 ... 6 1 7] [5 8 9 ... 6 1 7]\n",
            "0.8299756097560975\n",
            "Iteration:  390\n",
            "[5 8 9 ... 6 1 7] [5 8 9 ... 6 1 7]\n",
            "0.8319268292682926\n",
            "Iteration:  400\n",
            "[5 8 9 ... 6 1 7] [5 8 9 ... 6 1 7]\n",
            "0.8337317073170731\n",
            "Iteration:  410\n",
            "[5 8 9 ... 6 1 7] [5 8 9 ... 6 1 7]\n",
            "0.8354146341463414\n",
            "Iteration:  420\n",
            "[5 8 9 ... 6 1 7] [5 8 9 ... 6 1 7]\n",
            "0.8369268292682926\n",
            "Iteration:  430\n",
            "[5 8 9 ... 6 1 7] [5 8 9 ... 6 1 7]\n",
            "0.8378536585365853\n",
            "Iteration:  440\n",
            "[5 8 9 ... 6 1 7] [5 8 9 ... 6 1 7]\n",
            "0.8396341463414634\n",
            "Iteration:  450\n",
            "[5 8 9 ... 6 1 7] [5 8 9 ... 6 1 7]\n",
            "0.8413170731707317\n",
            "Iteration:  460\n",
            "[5 8 9 ... 6 1 7] [5 8 9 ... 6 1 7]\n",
            "0.842780487804878\n",
            "Iteration:  470\n",
            "[5 8 9 ... 6 1 7] [5 8 9 ... 6 1 7]\n",
            "0.8439268292682927\n",
            "Iteration:  480\n",
            "[5 8 9 ... 6 1 7] [5 8 9 ... 6 1 7]\n",
            "0.8452926829268292\n",
            "Iteration:  490\n",
            "[5 8 9 ... 6 1 7] [5 8 9 ... 6 1 7]\n",
            "0.8466829268292683\n"
          ]
        }
      ]
    },
    {
      "cell_type": "markdown",
      "source": [
        "**~85% accuracy on training set.**"
      ],
      "metadata": {
        "id": "znB9WEJWDEUp"
      }
    },
    {
      "cell_type": "code",
      "source": [
        "def make_predictions(X, W1, b1, W2, b2):\n",
        "    _, _, _, A2 = forward_prop(W1, b1, W2, b2, X)\n",
        "    predictions = get_predictions(A2)\n",
        "    return predictions\n",
        "\n",
        "def test_prediction(index, W1, b1, W2, b2):\n",
        "    current_image = X_train[:, index, None]\n",
        "    prediction = make_predictions(X_train[:, index, None], W1, b1, W2, b2)\n",
        "    label = Y_train[index]\n",
        "    print(\"Prediction: \", prediction)\n",
        "    print(\"Label: \", label)\n",
        "\n",
        "    current_image = current_image.reshape((28, 28)) * 255\n",
        "    plt.gray()\n",
        "    plt.imshow(current_image, interpolation='nearest')\n",
        "    plt.show()"
      ],
      "metadata": {
        "id": "WM5zk1rMDA-P"
      },
      "execution_count": 12,
      "outputs": []
    },
    {
      "cell_type": "code",
      "source": [
        "test_prediction(0, W1, b1, W2, b2)\n",
        "test_prediction(1, W1, b1, W2, b2)\n",
        "test_prediction(2, W1, b1, W2, b2)\n",
        "test_prediction(3, W1, b1, W2, b2)\n"
      ],
      "metadata": {
        "colab": {
          "base_uri": "https://localhost:8080/",
          "height": 1000
        },
        "id": "MwdANT_RDJcP",
        "outputId": "fc173bbb-60dd-492c-a9d6-ec88ea4b3b5d"
      },
      "execution_count": 13,
      "outputs": [
        {
          "output_type": "stream",
          "name": "stdout",
          "text": [
            "Prediction:  [5]\n",
            "Label:  5\n"
          ]
        },
        {
          "output_type": "display_data",
          "data": {
            "text/plain": [
              "<Figure size 640x480 with 1 Axes>"
            ],
            "image/png": "[encoded data removed]"
          },
          "metadata": {}
        },
        {
          "output_type": "stream",
          "name": "stdout",
          "text": [
            "Prediction:  [8]\n",
            "Label:  8\n"
          ]
        },
        {
          "output_type": "display_data",
          "data": {
            "text/plain": [
              "<Figure size 640x480 with 1 Axes>"
            ],
            "image/png": "[encoded data removed]"
          },
          "metadata": {}
        },
        {
          "output_type": "stream",
          "name": "stdout",
          "text": [
            "Prediction:  [9]\n",
            "Label:  9\n"
          ]
        },
        {
          "output_type": "display_data",
          "data": {
            "text/plain": [
              "<Figure size 640x480 with 1 Axes>"
            ],
            "image/png": "[encoded data removed]"
          },
          "metadata": {}
        },
        {
          "output_type": "stream",
          "name": "stdout",
          "text": [
            "Prediction:  [8]\n",
            "Label:  8\n"
          ]
        },
        {
          "output_type": "display_data",
          "data": {
            "text/plain": [
              "<Figure size 640x480 with 1 Axes>"
            ],
            "image/png": "[encoded data removed]"
          },
          "metadata": {}
        }
      ]
    },
    {
      "cell_type": "code",
      "source": [
        "dev_predictions = make_predictions(X_dev, W1, b1, W2, b2)\n",
        "get_accuracy(dev_predictions, Y_dev)"
      ],
      "metadata": {
        "colab": {
          "base_uri": "https://localhost:8080/"
        },
        "id": "fEq4heFKDRuw",
        "outputId": "e28f4d5f-cc62-4301-de30-980b301c2e2b"
      },
      "execution_count": 14,
      "outputs": [
        {
          "output_type": "stream",
          "name": "stdout",
          "text": [
            "[6 8 1 0 4 8 5 4 2 1 9 6 1 7 0 4 6 6 4 7 1 7 5 5 7 6 9 9 5 3 8 3 6 9 0 1 7\n",
            " 0 2 4 5 6 6 7 2 9 8 7 1 0 0 4 7 1 2 5 0 9 1 0 2 5 2 2 6 1 3 0 1 0 8 1 4 1\n",
            " 3 3 0 7 7 1 1 5 5 2 9 3 7 1 3 3 6 1 1 1 5 7 4 6 1 7 7 6 6 5 9 9 1 0 7 3 8\n",
            " 4 9 4 2 3 0 6 3 3 3 1 4 3 4 6 0 5 1 5 4 5 1 6 6 1 9 9 5 1 5 6 7 0 1 0 4 8\n",
            " 8 5 4 4 7 1 3 8 7 5 6 2 6 4 3 6 7 4 7 9 6 9 2 1 0 3 6 7 3 9 4 8 9 0 7 0 8\n",
            " 2 3 2 5 0 7 3 2 6 9 7 5 8 3 4 3 5 7 7 7 5 2 6 7 3 5 6 4 9 1 1 2 6 7 6 3 6\n",
            " 2 1 5 6 3 3 6 9 4 1 1 9 4 8 3 0 8 4 1 9 6 3 0 0 0 3 3 7 6 0 9 1 7 1 6 4 0\n",
            " 6 5 3 8 1 9 9 5 8 2 3 2 7 0 6 4 9 2 6 7 1 7 3 8 4 4 3 0 3 1 8 2 9 4 7 5 1\n",
            " 9 3 0 9 6 0 1 6 8 0 8 3 9 6 3 0 0 1 3 3 1 4 3 7 6 5 6 6 9 8 1 2 0 4 3 3 1\n",
            " 4 9 6 9 7 8 6 7 4 2 5 4 0 0 7 1 7 7 4 6 7 6 0 2 5 5 8 3 1 7 0 5 3 2 0 4 7\n",
            " 3 7 0 2 3 4 2 8 7 9 1 1 2 8 2 1 1 1 3 7 2 8 2 9 0 0 4 3 1 0 3 3 0 8 2 4 3\n",
            " 4 3 1 5 8 6 4 8 7 8 0 0 8 1 3 0 4 3 8 0 5 8 4 1 4 3 2 0 2 2 3 5 8 5 9 6 6\n",
            " 2 7 3 5 1 8 9 4 6 3 8 5 8 2 7 6 2 7 0 1 2 7 9 4 5 4 2 2 2 2 7 5 4 9 3 2 5\n",
            " 9 7 5 8 2 3 6 4 3 2 7 3 7 9 8 4 6 6 1 8 2 0 1 6 5 4 5 1 1 8 2 7 5 0 3 1 0\n",
            " 1 6 0 2 4 6 0 5 8 6 4 6 5 6 0 0 5 6 0 9 5 4 9 7 2 1 0 7 0 6 8 7 1 7 4 9 6\n",
            " 0 4 6 1 1 6 3 0 6 3 1 1 6 9 9 1 4 9 9 3 3 1 5 5 8 9 7 9 3 3 9 5 1 7 5 0 6\n",
            " 5 2 6 7 8 9 6 6 0 9 0 3 2 7 7 2 9 3 6 6 1 7 9 3 7 6 7 5 1 5 8 9 8 1 8 5 4\n",
            " 3 8 9 4 7 1 4 6 9 9 8 1 5 7 6 6 7 8 3 1 9 0 9 6 1 9 9 6 4 1 8 6 4 5 1 4 1\n",
            " 2 1 6 5 7 9 1 5 4 4 8 6 4 8 8 0 1 7 8 6 1 0 9 6 0 7 9 7 0 5 7 4 7 9 8 9 6\n",
            " 1 9 0 3 7 0 6 5 2 7 9 0 1 9 5 6 4 9 4 2 8 2 7 2 1 0 1 3 6 7 8 4 2 7 9 5 3\n",
            " 6 3 4 1 2 9 1 9 1 5 7 2 8 1 1 4 9 1 6 1 7 7 5 2 9 8 0 2 9 6 1 2 9 0 7 1 7\n",
            " 3 4 8 8 0 0 3 2 2 5 7 8 3 3 4 0 8 1 4 3 4 9 1 3 1 5 9 7 3 4 5 7 1 5 6 1 5\n",
            " 4 5 7 0 0 2 0 3 1 8 5 3 3 2 0 6 1 2 3 8 6 5 0 3 8 7 3 3 3 0 3 5 2 6 2 9 1\n",
            " 7 7 3 6 9 6 5 2 4 2 2 1 9 1 8 4 3 7 4 1 4 6 7 0 5 2 7 2 0 2 2 3 8 2 9 6 7\n",
            " 4 5 5 4 1 8 7 6 8 7 4 9 4 2 8 0 0 8 6 8 9 1 0 6 7 2 3 7 1 0 7 8 6 0 9 8 3\n",
            " 2 4 7 2 9 3 3 9 1 6 6 3 1 3 0 1 8 4 8 8 9 0 4 7 2 8 9 7 6 0 8 9 1 9 6 4 3\n",
            " 0 9 5 4 8 5 5 5 4 3 7 7 7 9 5 8 2 9 2 6 3 9 0 4 1 6 9 2 6 4 1 6 5 0 9 2 4\n",
            " 9] [6 8 1 0 4 8 5 4 2 1 9 6 1 7 0 4 6 6 4 9 5 7 5 5 5 6 9 9 5 2 8 3 6 9 0 3 7\n",
            " 0 2 4 8 6 6 7 2 9 8 7 1 0 0 4 7 1 2 5 8 9 1 0 1 5 6 2 6 1 3 0 1 0 8 1 4 1\n",
            " 3 3 0 7 7 5 1 3 0 2 9 3 7 1 5 3 6 1 1 1 5 7 4 6 1 7 7 6 2 5 9 5 1 0 7 3 8\n",
            " 4 7 5 2 2 0 6 3 3 8 1 4 8 3 6 0 8 1 5 4 5 1 6 6 1 9 9 5 1 5 6 3 0 1 0 4 8\n",
            " 3 3 4 8 7 1 3 8 9 5 2 3 2 4 3 6 7 4 7 9 6 9 2 1 0 0 6 7 3 9 4 8 7 0 3 4 8\n",
            " 2 3 2 5 0 4 3 4 6 9 7 5 3 3 9 3 5 7 7 7 5 2 6 7 3 5 6 4 9 1 1 2 6 7 6 3 6\n",
            " 2 1 5 6 3 8 5 9 4 1 1 7 4 8 3 0 8 4 1 9 6 2 0 0 0 3 3 7 6 0 4 1 7 1 0 4 0\n",
            " 9 3 3 8 1 9 0 5 8 2 2 4 7 0 6 4 9 8 6 7 1 7 3 8 4 4 3 0 3 1 8 5 4 4 9 5 1\n",
            " 9 5 0 9 6 0 1 6 8 2 8 8 9 2 3 0 0 1 3 3 1 4 3 7 0 5 5 5 9 8 1 2 0 4 3 5 1\n",
            " 5 4 6 9 9 8 6 7 4 2 5 4 0 0 7 5 7 7 9 6 7 6 0 2 5 5 8 3 1 7 7 5 3 2 0 4 3\n",
            " 5 7 5 2 0 4 2 2 7 3 1 1 2 8 2 3 1 1 3 7 2 8 2 9 0 0 6 3 1 0 3 3 0 8 2 4 3\n",
            " 9 2 1 5 8 6 4 8 9 8 0 0 8 8 3 0 4 3 8 3 5 8 4 1 9 3 6 0 2 2 3 5 8 5 9 6 3\n",
            " 2 7 3 3 1 6 4 2 6 3 3 5 8 2 7 6 2 7 0 1 2 3 9 4 5 4 7 2 2 2 7 5 4 9 3 2 6\n",
            " 9 9 5 8 2 5 6 4 3 2 7 3 9 9 8 4 6 6 1 8 2 0 1 6 9 4 5 1 1 3 2 7 5 0 3 1 6\n",
            " 1 6 0 2 4 4 0 6 8 6 4 6 6 6 0 0 5 6 0 9 5 9 9 7 8 1 0 7 0 6 8 7 1 7 4 0 6\n",
            " 0 4 6 1 1 6 3 0 6 3 1 1 6 7 9 3 4 9 9 3 5 1 5 8 2 9 2 9 3 3 9 5 1 7 5 0 6\n",
            " 5 2 6 7 8 5 6 6 0 7 0 3 3 7 7 2 9 3 2 6 1 7 4 3 7 6 7 5 1 5 8 9 8 1 8 5 4\n",
            " 3 8 5 9 7 1 4 6 9 9 8 1 5 7 6 6 7 8 3 1 9 0 9 6 1 5 9 6 4 1 8 6 4 5 1 4 1\n",
            " 2 1 8 5 7 9 1 5 4 4 8 6 4 8 8 0 1 7 8 6 1 0 9 6 0 7 9 7 0 5 7 4 7 9 9 9 2\n",
            " 1 9 0 3 7 2 6 5 2 7 4 0 1 9 5 6 4 9 9 8 3 0 7 2 1 0 1 3 6 7 8 4 2 7 9 5 3\n",
            " 6 3 4 1 2 3 1 9 6 5 7 2 8 1 1 4 9 1 6 5 7 7 5 2 9 8 2 2 8 6 1 5 9 0 7 1 7\n",
            " 3 4 7 2 0 0 3 2 8 5 7 8 3 3 4 0 8 1 4 3 4 7 1 3 1 5 7 7 3 9 5 7 1 5 6 1 5\n",
            " 4 5 7 0 0 2 0 3 1 8 5 3 8 2 0 2 2 2 3 8 6 5 0 3 8 7 3 5 3 0 3 5 2 6 2 9 7\n",
            " 7 7 5 6 9 0 5 3 5 2 8 1 7 7 8 3 3 7 4 1 4 4 7 5 0 2 7 2 0 2 2 3 8 2 4 6 7\n",
            " 2 5 5 4 1 8 7 6 8 7 4 9 4 2 8 0 0 8 4 8 9 1 0 6 3 8 8 7 1 0 7 2 4 0 9 8 3\n",
            " 2 4 7 2 4 3 3 9 5 2 6 5 1 3 0 1 8 9 8 8 4 0 4 7 2 8 9 7 5 0 8 7 1 7 6 4 3\n",
            " 0 9 5 4 8 4 5 5 4 3 7 7 7 9 5 3 8 9 2 6 3 9 0 4 1 6 9 2 5 9 1 6 5 0 9 2 4\n",
            " 9]\n"
          ]
        },
        {
          "output_type": "execute_result",
          "data": {
            "text/plain": [
              "np.float64(0.824)"
            ]
          },
          "metadata": {},
          "execution_count": 14
        }
      ]
    },
    {
      "cell_type": "markdown",
      "source": [
        "Declaration:\n",
        "\n",
        "I, Suryansh agarwal, confirm that the work submitted in this assignment is my own and has been completed\n",
        "following academic integrity guidelines. The code is uploaded on my GitHub repository account, and the\n",
        "repository link is provided below:\n",
        "\n",
        "GitHub Repository Link: [Insert GitHub Link]\n",
        "\n",
        "\n",
        "Signature: Suryansh agarwal"
      ],
      "metadata": {
        "id": "DzS9cgY4GAoC"
      }
    },
    {
      "cell_type": "markdown",
      "source": [],
      "metadata": {
        "id": "yRBJArf0GKjp"
      }
    }
  ]
}