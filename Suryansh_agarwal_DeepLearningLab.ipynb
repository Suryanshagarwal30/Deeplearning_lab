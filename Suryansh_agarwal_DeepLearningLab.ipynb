{
  "metadata": {
    "kernelspec": {
      "language": "python",
      "display_name": "Python 3",
      "name": "python3"
    },
    "language_info": {
      "name": "python",
      "version": "3.10.12",
      "mimetype": "text/x-python",
      "codemirror_mode": {
        "name": "ipython",
        "version": 3
      },
      "pygments_lexer": "ipython3",
      "nbconvert_exporter": "python",
      "file_extension": ".py"
    },
    "kaggle": {
      "accelerator": "none",
      "dataSources": [
        {
          "sourceId": 3004,
          "databundleVersionId": 861823,
          "sourceType": "competition"
        },
        {
          "sourceId": 1313369,
          "sourceType": "kernelVersion"
        }
      ],
      "dockerImageVersionId": 30886,
      "isInternetEnabled": false,
      "language": "python",
      "sourceType": "notebook",
      "isGpuEnabled": false
    },
    "colab": {
      "name": "Suryansh_agarwal_DeepLearningLab",
      "provenance": []
    }
  },
  "nbformat_minor": 0,
  "nbformat": 4,
  "cells": [
    {
      "source": [
        "# IMPORTANT: SOME KAGGLE DATA SOURCES ARE PRIVATE\n",
        "# RUN THIS CELL IN ORDER TO IMPORT YOUR KAGGLE DATA SOURCES.\n",
        "import kagglehub\n",
        "kagglehub.login()\n"
      ],
      "metadata": {
        "id": "YuNaWlClL6Px"
      },
      "cell_type": "code",
      "outputs": [],
      "execution_count": null
    },
    {
      "source": [
        "# IMPORTANT: RUN THIS CELL IN ORDER TO IMPORT YOUR KAGGLE DATA SOURCES,\n",
        "# THEN FEEL FREE TO DELETE THIS CELL.\n",
        "# NOTE: THIS NOTEBOOK ENVIRONMENT DIFFERS FROM KAGGLE'S PYTHON\n",
        "# ENVIRONMENT SO THERE MAY BE MISSING LIBRARIES USED BY YOUR\n",
        "# NOTEBOOK.\n",
        "\n",
        "digit_recognizer_path = kagglehub.competition_download('digit-recognizer')\n",
        "\n",
        "print('Data source import complete.')\n"
      ],
      "metadata": {
        "id": "TqEBVHmNL6P4"
      },
      "cell_type": "code",
      "outputs": [],
      "execution_count": null
    },
    {
      "cell_type": "code",
      "source": [
        "import numpy as np\n",
        "import pandas as pd\n",
        "from matplotlib import pyplot as plt\n",
        "\n",
        "data = pd.read_csv('/kaggle/input/digit-recognizer/train.csv')\n"
      ],
      "metadata": {
        "_uuid": "8f2839f25d086af736a60e9eeb907d3b93b6e0e5",
        "_cell_guid": "b1076dfc-b9ad-4769-8c92-a6c4dae69d19",
        "trusted": true,
        "execution": {
          "iopub.status.busy": "2025-02-13T06:33:02.985841Z",
          "iopub.execute_input": "2025-02-13T06:33:02.986231Z",
          "iopub.status.idle": "2025-02-13T06:33:06.293732Z",
          "shell.execute_reply.started": "2025-02-13T06:33:02.986199Z",
          "shell.execute_reply": "2025-02-13T06:33:06.292884Z"
        },
        "id": "akdcjSHGL6P6"
      },
      "outputs": [],
      "execution_count": null
    },
    {
      "cell_type": "code",
      "source": [
        "data = np.array(data)\n",
        "m, n = data.shape\n",
        "np.random.shuffle(data) # shuffle before splitting into dev and training sets\n",
        "\n",
        "data_dev = data[0:1000].T\n",
        "Y_dev = data_dev[0]\n",
        "X_dev = data_dev[1:n]\n",
        "X_dev = X_dev / 255.\n",
        "\n",
        "data_train = data[1000:m].T\n",
        "Y_train = data_train[0]\n",
        "X_train = data_train[1:n]\n",
        "X_train = X_train / 255.\n",
        "_,m_train = X_train.shape\n"
      ],
      "metadata": {
        "trusted": true,
        "execution": {
          "iopub.status.busy": "2025-02-13T06:33:25.16662Z",
          "iopub.execute_input": "2025-02-13T06:33:25.166973Z",
          "iopub.status.idle": "2025-02-13T06:33:25.985595Z",
          "shell.execute_reply.started": "2025-02-13T06:33:25.166941Z",
          "shell.execute_reply": "2025-02-13T06:33:25.984761Z"
        },
        "id": "IUJM1ttgL6P7"
      },
      "outputs": [],
      "execution_count": null
    },
    {
      "cell_type": "code",
      "source": [
        "Y_train"
      ],
      "metadata": {
        "trusted": true,
        "execution": {
          "iopub.status.busy": "2025-02-13T06:33:35.74977Z",
          "iopub.execute_input": "2025-02-13T06:33:35.750179Z",
          "iopub.status.idle": "2025-02-13T06:33:35.756829Z",
          "shell.execute_reply.started": "2025-02-13T06:33:35.750147Z",
          "shell.execute_reply": "2025-02-13T06:33:35.755607Z"
        },
        "id": "glBFDKS-L6P7",
        "outputId": "a55a3435-a976-4edb-d065-9f251add9623"
      },
      "outputs": [
        {
          "execution_count": 4,
          "output_type": "execute_result",
          "data": {
            "text/plain": "array([4, 2, 3, ..., 2, 9, 3])"
          },
          "metadata": {}
        }
      ],
      "execution_count": null
    },
    {
      "cell_type": "code",
      "source": [
        "def init_params():\n",
        "    W1 = np.random.rand(10, 784) - 0.5\n",
        "    b1 = np.random.rand(10, 1) - 0.5\n",
        "    W2 = np.random.rand(10, 10) - 0.5\n",
        "    b2 = np.random.rand(10, 1) - 0.5\n",
        "    return W1, b1, W2, b2\n",
        "\n",
        "def ReLU(Z):\n",
        "    return np.maximum(Z, 0)\n",
        "\n",
        "def softmax(Z):\n",
        "    A = np.exp(Z) / sum(np.exp(Z))\n",
        "    return A\n",
        "\n",
        "def forward_prop(W1, b1, W2, b2, X):\n",
        "    Z1 = W1.dot(X) + b1\n",
        "    A1 = ReLU(Z1)\n",
        "    Z2 = W2.dot(A1) + b2\n",
        "    A2 = softmax(Z2)\n",
        "    return Z1, A1, Z2, A2\n",
        "\n",
        "def ReLU_deriv(Z):\n",
        "    return Z > 0\n",
        "\n",
        "def one_hot(Y):\n",
        "    one_hot_Y = np.zeros((Y.size, Y.max() + 1))\n",
        "    one_hot_Y[np.arange(Y.size), Y] = 1\n",
        "    one_hot_Y = one_hot_Y.T\n",
        "    return one_hot_Y\n",
        "\n",
        "def backward_prop(Z1, A1, Z2, A2, W1, W2, X, Y):\n",
        "    one_hot_Y = one_hot(Y)\n",
        "    dZ2 = A2 - one_hot_Y\n",
        "    dW2 = 1 / m * dZ2.dot(A1.T)\n",
        "    db2 = 1 / m * np.sum(dZ2)\n",
        "    dZ1 = W2.T.dot(dZ2) * ReLU_deriv(Z1)\n",
        "    dW1 = 1 / m * dZ1.dot(X.T)\n",
        "    db1 = 1 / m * np.sum(dZ1)\n",
        "    return dW1, db1, dW2, db2\n",
        "\n",
        "def update_params(W1, b1, W2, b2, dW1, db1, dW2, db2, alpha):\n",
        "    W1 = W1 - alpha * dW1\n",
        "    b1 = b1 - alpha * db1\n",
        "    W2 = W2 - alpha * dW2\n",
        "    b2 = b2 - alpha * db2\n",
        "    return W1, b1, W2, b2\n"
      ],
      "metadata": {
        "trusted": true,
        "execution": {
          "iopub.status.busy": "2025-02-13T06:33:53.303477Z",
          "iopub.execute_input": "2025-02-13T06:33:53.303871Z",
          "iopub.status.idle": "2025-02-13T06:33:53.313369Z",
          "shell.execute_reply.started": "2025-02-13T06:33:53.303838Z",
          "shell.execute_reply": "2025-02-13T06:33:53.312286Z"
        },
        "id": "CvECgawUL6P9"
      },
      "outputs": [],
      "execution_count": null
    },
    {
      "cell_type": "code",
      "source": [
        "def get_predictions(A2):\n",
        "    return np.argmax(A2, 0)\n",
        "\n",
        "def get_accuracy(predictions, Y):\n",
        "    print(predictions, Y)\n",
        "    return np.sum(predictions == Y) / Y.size\n",
        "\n",
        "def gradient_descent(X, Y, alpha, iterations):\n",
        "    W1, b1, W2, b2 = init_params()\n",
        "    for i in range(iterations):\n",
        "        Z1, A1, Z2, A2 = forward_prop(W1, b1, W2, b2, X)\n",
        "        dW1, db1, dW2, db2 = backward_prop(Z1, A1, Z2, A2, W1, W2, X, Y)\n",
        "        W1, b1, W2, b2 = update_params(W1, b1, W2, b2, dW1, db1, dW2, db2, alpha)\n",
        "        if i % 10 == 0:\n",
        "            print(\"Iteration: \", i)\n",
        "            predictions = get_predictions(A2)\n",
        "            print(get_accuracy(predictions, Y))\n",
        "    return W1, b1, W2, b2\n"
      ],
      "metadata": {
        "trusted": true,
        "execution": {
          "iopub.status.busy": "2025-02-13T06:34:13.62703Z",
          "iopub.execute_input": "2025-02-13T06:34:13.627412Z",
          "iopub.status.idle": "2025-02-13T06:34:13.633704Z",
          "shell.execute_reply.started": "2025-02-13T06:34:13.627381Z",
          "shell.execute_reply": "2025-02-13T06:34:13.632749Z"
        },
        "id": "QoiotSKsL6P-"
      },
      "outputs": [],
      "execution_count": null
    },
    {
      "cell_type": "code",
      "source": [
        "W1, b1, W2, b2 = gradient_descent(X_train, Y_train, 0.10, 500)"
      ],
      "metadata": {
        "trusted": true,
        "execution": {
          "iopub.status.busy": "2025-02-13T06:34:23.608415Z",
          "iopub.execute_input": "2025-02-13T06:34:23.60874Z",
          "iopub.status.idle": "2025-02-13T06:35:02.290127Z",
          "shell.execute_reply.started": "2025-02-13T06:34:23.608703Z",
          "shell.execute_reply": "2025-02-13T06:35:02.288992Z"
        },
        "id": "OmpE4aCzL6P_",
        "outputId": "d069acac-092a-4d4d-d7be-26451592c509"
      },
      "outputs": [
        {
          "name": "stdout",
          "text": "Iteration:  0\n[7 0 0 ... 0 0 0] [4 2 3 ... 2 9 3]\n0.06385365853658537\nIteration:  10\n[8 4 8 ... 8 6 8] [4 2 3 ... 2 9 3]\n0.15265853658536585\nIteration:  20\n[8 6 8 ... 8 3 8] [4 2 3 ... 2 9 3]\n0.22278048780487805\nIteration:  30\n[8 6 8 ... 8 3 8] [4 2 3 ... 2 9 3]\n0.25685365853658537\nIteration:  40\n[7 6 8 ... 8 3 8] [4 2 3 ... 2 9 3]\n0.30560975609756097\nIteration:  50\n[4 6 8 ... 8 9 8] [4 2 3 ... 2 9 3]\n0.3571463414634146\nIteration:  60\n[4 6 7 ... 6 9 8] [4 2 3 ... 2 9 3]\n0.394\nIteration:  70\n[4 6 7 ... 6 9 8] [4 2 3 ... 2 9 3]\n0.4295609756097561\nIteration:  80\n[4 6 7 ... 0 9 8] [4 2 3 ... 2 9 3]\n0.4652439024390244\nIteration:  90\n[4 0 7 ... 0 9 8] [4 2 3 ... 2 9 3]\n0.4961951219512195\nIteration:  100\n[4 0 7 ... 0 9 3] [4 2 3 ... 2 9 3]\n0.5247560975609756\nIteration:  110\n[4 0 3 ... 0 9 3] [4 2 3 ... 2 9 3]\n0.552439024390244\nIteration:  120\n[4 0 3 ... 0 9 3] [4 2 3 ... 2 9 3]\n0.5771951219512195\nIteration:  130\n[4 0 3 ... 0 9 3] [4 2 3 ... 2 9 3]\n0.600390243902439\nIteration:  140\n[4 8 3 ... 0 9 3] [4 2 3 ... 2 9 3]\n0.6208536585365854\nIteration:  150\n[4 8 3 ... 0 9 3] [4 2 3 ... 2 9 3]\n0.639609756097561\nIteration:  160\n[4 8 3 ... 0 9 3] [4 2 3 ... 2 9 3]\n0.6560243902439025\nIteration:  170\n[4 8 3 ... 0 9 3] [4 2 3 ... 2 9 3]\n0.6709024390243903\nIteration:  180\n[4 8 3 ... 0 9 3] [4 2 3 ... 2 9 3]\n0.6843170731707318\nIteration:  190\n[4 8 3 ... 2 9 3] [4 2 3 ... 2 9 3]\n0.6958536585365853\nIteration:  200\n[4 8 3 ... 2 9 3] [4 2 3 ... 2 9 3]\n0.7070487804878048\nIteration:  210\n[4 8 3 ... 2 9 3] [4 2 3 ... 2 9 3]\n0.7165365853658536\nIteration:  220\n[4 8 3 ... 2 9 3] [4 2 3 ... 2 9 3]\n0.7247073170731707\nIteration:  230\n[4 8 3 ... 2 9 3] [4 2 3 ... 2 9 3]\n0.7330243902439024\nIteration:  240\n[4 8 3 ... 2 9 3] [4 2 3 ... 2 9 3]\n0.7400731707317073\nIteration:  250\n[4 8 3 ... 2 9 3] [4 2 3 ... 2 9 3]\n0.7475121951219512\nIteration:  260\n[4 8 3 ... 2 9 3] [4 2 3 ... 2 9 3]\n0.7533170731707317\nIteration:  270\n[4 8 3 ... 2 9 3] [4 2 3 ... 2 9 3]\n0.7587317073170732\nIteration:  280\n[4 8 3 ... 2 9 3] [4 2 3 ... 2 9 3]\n0.7639512195121951\nIteration:  290\n[4 8 3 ... 2 9 3] [4 2 3 ... 2 9 3]\n0.7693658536585366\nIteration:  300\n[4 8 3 ... 2 9 3] [4 2 3 ... 2 9 3]\n0.7738780487804878\nIteration:  310\n[4 8 3 ... 2 9 3] [4 2 3 ... 2 9 3]\n0.7783170731707317\nIteration:  320\n[4 8 3 ... 2 9 3] [4 2 3 ... 2 9 3]\n0.7823170731707317\nIteration:  330\n[4 8 3 ... 2 9 3] [4 2 3 ... 2 9 3]\n0.7870731707317074\nIteration:  340\n[4 8 3 ... 2 9 3] [4 2 3 ... 2 9 3]\n0.7910731707317074\nIteration:  350\n[4 8 3 ... 2 9 3] [4 2 3 ... 2 9 3]\n0.7949024390243903\nIteration:  360\n[4 8 3 ... 2 9 3] [4 2 3 ... 2 9 3]\n0.7985365853658537\nIteration:  370\n[4 8 3 ... 2 9 3] [4 2 3 ... 2 9 3]\n0.801829268292683\nIteration:  380\n[4 8 3 ... 2 9 3] [4 2 3 ... 2 9 3]\n0.8050243902439025\nIteration:  390\n[4 8 3 ... 2 9 3] [4 2 3 ... 2 9 3]\n0.8084878048780488\nIteration:  400\n[4 8 3 ... 2 9 3] [4 2 3 ... 2 9 3]\n0.8118536585365854\nIteration:  410\n[4 8 3 ... 2 9 3] [4 2 3 ... 2 9 3]\n0.8144878048780487\nIteration:  420\n[4 8 3 ... 2 9 3] [4 2 3 ... 2 9 3]\n0.8171951219512195\nIteration:  430\n[4 8 3 ... 2 9 3] [4 2 3 ... 2 9 3]\n0.8199756097560975\nIteration:  440\n[4 8 3 ... 2 9 3] [4 2 3 ... 2 9 3]\n0.8224390243902439\nIteration:  450\n[4 8 3 ... 2 9 3] [4 2 3 ... 2 9 3]\n0.8252439024390243\nIteration:  460\n[4 8 3 ... 2 9 3] [4 2 3 ... 2 9 3]\n0.8270975609756097\nIteration:  470\n[4 8 3 ... 2 9 3] [4 2 3 ... 2 9 3]\n0.8291463414634146\nIteration:  480\n[4 8 3 ... 2 9 3] [4 2 3 ... 2 9 3]\n0.8318048780487804\nIteration:  490\n[4 8 3 ... 2 9 3] [4 2 3 ... 2 9 3]\n0.8337560975609756\n",
          "output_type": "stream"
        }
      ],
      "execution_count": null
    },
    {
      "cell_type": "code",
      "source": [
        "def make_predictions(X, W1, b1, W2, b2):\n",
        "    _, _, _, A2 = forward_prop(W1, b1, W2, b2, X)\n",
        "    predictions = get_predictions(A2)\n",
        "    return predictions\n",
        "\n",
        "def test_prediction(index, W1, b1, W2, b2):\n",
        "    current_image = X_train[:, index, None]\n",
        "    prediction = make_predictions(X_train[:, index, None], W1, b1, W2, b2)\n",
        "    label = Y_train[index]\n",
        "    print(\"Prediction: \", prediction)\n",
        "    print(\"Label: \", label)\n",
        "\n",
        "    current_image = current_image.reshape((28, 28)) * 255\n",
        "    plt.gray()\n",
        "    plt.imshow(current_image, interpolation='nearest')\n",
        "    plt.show()\n"
      ],
      "metadata": {
        "trusted": true,
        "execution": {
          "iopub.status.busy": "2025-02-13T06:35:45.120904Z",
          "iopub.execute_input": "2025-02-13T06:35:45.121352Z",
          "iopub.status.idle": "2025-02-13T06:35:45.129867Z",
          "shell.execute_reply.started": "2025-02-13T06:35:45.121318Z",
          "shell.execute_reply": "2025-02-13T06:35:45.12872Z"
        },
        "id": "8hA0GLZNL6QA"
      },
      "outputs": [],
      "execution_count": null
    },
    {
      "cell_type": "code",
      "source": [
        "test_prediction(0, W1, b1, W2, b2)\n",
        "test_prediction(1, W1, b1, W2, b2)\n",
        "test_prediction(2, W1, b1, W2, b2)\n",
        "test_prediction(3, W1, b1, W2, b2)\n"
      ],
      "metadata": {
        "trusted": true,
        "execution": {
          "iopub.status.busy": "2025-02-13T06:35:59.06071Z",
          "iopub.execute_input": "2025-02-13T06:35:59.061038Z",
          "iopub.status.idle": "2025-02-13T06:35:59.822747Z",
          "shell.execute_reply.started": "2025-02-13T06:35:59.061011Z",
          "shell.execute_reply": "2025-02-13T06:35:59.821683Z"
        },
        "id": "mEc4slD3L6QB",
        "outputId": "15f172ca-2c38-49a1-e841-aafdff8086ff"
      },
      "outputs": [
        {
          "name": "stdout",
          "text": "Prediction:  [4]\nLabel:  4\n",
          "output_type": "stream"
        },
        {
          "output_type": "display_data",
          "data": {
            "text/plain": "<Figure size 640x480 with 1 Axes>",
            "image/png": "[encoded data removed]"
          },
          "metadata": {}
        },
        {
          "name": "stdout",
          "text": "Prediction:  [8]\nLabel:  2\n",
          "output_type": "stream"
        },
        {
          "output_type": "display_data",
          "data": {
            "text/plain": "<Figure size 640x480 with 1 Axes>",
            "image/png": "[encoded data removed]"
          },
          "metadata": {}
        },
        {
          "name": "stdout",
          "text": "Prediction:  [3]\nLabel:  3\n",
          "output_type": "stream"
        },
        {
          "output_type": "display_data",
          "data": {
            "text/plain": "<Figure size 640x480 with 1 Axes>",
            "image/png": "[encoded data removed]"
          },
          "metadata": {}
        },
        {
          "name": "stdout",
          "text": "Prediction:  [7]\nLabel:  7\n",
          "output_type": "stream"
        },
        {
          "output_type": "display_data",
          "data": {
            "text/plain": "<Figure size 640x480 with 1 Axes>",
            "image/png": "[encoded data removed]"
          },
          "metadata": {}
        }
      ],
      "execution_count": null
    }
  ]
}